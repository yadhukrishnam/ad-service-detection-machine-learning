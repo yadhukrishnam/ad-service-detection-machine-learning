{
 "cells": [
  {
   "cell_type": "code",
   "execution_count": 1,
   "id": "c094748b",
   "metadata": {
    "scrolled": true
   },
   "outputs": [
    {
     "data": {
      "text/html": [
       "<div>\n",
       "<style scoped>\n",
       "    .dataframe tbody tr th:only-of-type {\n",
       "        vertical-align: middle;\n",
       "    }\n",
       "\n",
       "    .dataframe tbody tr th {\n",
       "        vertical-align: top;\n",
       "    }\n",
       "\n",
       "    .dataframe thead th {\n",
       "        text-align: right;\n",
       "    }\n",
       "</style>\n",
       "<table border=\"1\" class=\"dataframe\">\n",
       "  <thead>\n",
       "    <tr style=\"text-align: right;\">\n",
       "      <th></th>\n",
       "      <th>class</th>\n",
       "      <th>url</th>\n",
       "      <th>status_code</th>\n",
       "      <th>meta_info</th>\n",
       "    </tr>\n",
       "  </thead>\n",
       "  <tbody>\n",
       "    <tr>\n",
       "      <th>0</th>\n",
       "      <td>0</td>\n",
       "      <td>https://crowdyfan.com/</td>\n",
       "      <td>200</td>\n",
       "      <td>Crowdyfan  Sports News Nutrition  More</td>\n",
       "    </tr>\n",
       "    <tr>\n",
       "      <th>1</th>\n",
       "      <td>0</td>\n",
       "      <td>https://dreamaways.com/</td>\n",
       "      <td>403</td>\n",
       "      <td>403 Forbidden</td>\n",
       "    </tr>\n",
       "    <tr>\n",
       "      <th>2</th>\n",
       "      <td>0</td>\n",
       "      <td>https://www.worldtravelserver.com/</td>\n",
       "      <td>200</td>\n",
       "      <td>London travel agencies United Kingdom weather ...</td>\n",
       "    </tr>\n",
       "    <tr>\n",
       "      <th>3</th>\n",
       "      <td>0</td>\n",
       "      <td>https://www.baarty.com/</td>\n",
       "      <td>200</td>\n",
       "      <td>Soluciones Para Bares  Baartycom</td>\n",
       "    </tr>\n",
       "    <tr>\n",
       "      <th>4</th>\n",
       "      <td>0</td>\n",
       "      <td>https://ladamotors63.ru/</td>\n",
       "      <td>200</td>\n",
       "      <td>Lada Motors</td>\n",
       "    </tr>\n",
       "  </tbody>\n",
       "</table>\n",
       "</div>"
      ],
      "text/plain": [
       "   class                                 url  status_code  \\\n",
       "0      0              https://crowdyfan.com/          200   \n",
       "1      0             https://dreamaways.com/          403   \n",
       "2      0  https://www.worldtravelserver.com/          200   \n",
       "3      0             https://www.baarty.com/          200   \n",
       "4      0            https://ladamotors63.ru/          200   \n",
       "\n",
       "                                           meta_info  \n",
       "0        Crowdyfan  Sports News Nutrition  More       \n",
       "1                                     403 Forbidden   \n",
       "2  London travel agencies United Kingdom weather ...  \n",
       "3                  Soluciones Para Bares  Baartycom   \n",
       "4                                       Lada Motors   "
      ]
     },
     "execution_count": 1,
     "metadata": {},
     "output_type": "execute_result"
    }
   ],
   "source": [
    "import pandas as pd\n",
    "import matplotlib.pyplot as plt \n",
    "\n",
    "df = pd.read_csv(\"../processed-datasets/metainfo_decompressed.csv\", sep=\"$\")\n",
    "\n",
    "df.head()"
   ]
  },
  {
   "cell_type": "code",
   "execution_count": 2,
   "id": "a3c61125",
   "metadata": {},
   "outputs": [],
   "source": [
    "df['length'] = df['url'].apply(lambda x: len(x))"
   ]
  },
  {
   "cell_type": "code",
   "execution_count": 3,
   "id": "96ee61f5",
   "metadata": {},
   "outputs": [],
   "source": [
    "df['nb_hyphen'] = df['url'].apply(lambda x: x.count(\"-\"))"
   ]
  },
  {
   "cell_type": "code",
   "execution_count": 4,
   "id": "1281ba06",
   "metadata": {},
   "outputs": [],
   "source": [
    "df['nb_cdn'] = df['url'].apply(lambda x: x.count(\"cdn\"))"
   ]
  },
  {
   "cell_type": "code",
   "execution_count": 5,
   "id": "f7e79ca0",
   "metadata": {},
   "outputs": [],
   "source": [
    "def count_digits(string):\n",
    "    occurence = 0\n",
    "    for char in string:\n",
    "        if char.isdigit() == True:\n",
    "            occurence += 1\n",
    "    return occurence\n",
    "\n",
    "df['nb_digits'] = df['url'].apply(count_digits)"
   ]
  },
  {
   "cell_type": "code",
   "execution_count": 6,
   "id": "06459f03",
   "metadata": {},
   "outputs": [],
   "source": [
    "def count_adword(string):\n",
    "    occurence = 0\n",
    "    \n",
    "    if \"ads\" in string:\n",
    "        occurence += 1\n",
    "    elif \"ad\" in string:\n",
    "        occurence += 1\n",
    "    \n",
    "    if \"tracker\" in string:\n",
    "        occurence += 1\n",
    "    \n",
    "    return occurence\n",
    "\n",
    "df['nb_adword'] = df['url'].apply(count_adword)"
   ]
  },
  {
   "cell_type": "code",
   "execution_count": 7,
   "id": "ee71825c",
   "metadata": {},
   "outputs": [],
   "source": [
    "df['nb_subdomains'] = df['url'].apply(lambda x: x.count(\".\") - 1)"
   ]
  },
  {
   "cell_type": "code",
   "execution_count": 8,
   "id": "65c990f8",
   "metadata": {
    "scrolled": true
   },
   "outputs": [
    {
     "data": {
      "text/html": [
       "<div>\n",
       "<style scoped>\n",
       "    .dataframe tbody tr th:only-of-type {\n",
       "        vertical-align: middle;\n",
       "    }\n",
       "\n",
       "    .dataframe tbody tr th {\n",
       "        vertical-align: top;\n",
       "    }\n",
       "\n",
       "    .dataframe thead th {\n",
       "        text-align: right;\n",
       "    }\n",
       "</style>\n",
       "<table border=\"1\" class=\"dataframe\">\n",
       "  <thead>\n",
       "    <tr style=\"text-align: right;\">\n",
       "      <th></th>\n",
       "      <th>class</th>\n",
       "      <th>url</th>\n",
       "      <th>status_code</th>\n",
       "      <th>meta_info</th>\n",
       "      <th>length</th>\n",
       "      <th>nb_hyphen</th>\n",
       "      <th>nb_cdn</th>\n",
       "      <th>nb_digits</th>\n",
       "      <th>nb_adword</th>\n",
       "      <th>nb_subdomains</th>\n",
       "    </tr>\n",
       "  </thead>\n",
       "  <tbody>\n",
       "    <tr>\n",
       "      <th>0</th>\n",
       "      <td>0</td>\n",
       "      <td>https://crowdyfan.com/</td>\n",
       "      <td>200</td>\n",
       "      <td>Crowdyfan  Sports News Nutrition  More</td>\n",
       "      <td>22</td>\n",
       "      <td>0</td>\n",
       "      <td>0</td>\n",
       "      <td>0</td>\n",
       "      <td>0</td>\n",
       "      <td>0</td>\n",
       "    </tr>\n",
       "    <tr>\n",
       "      <th>1</th>\n",
       "      <td>0</td>\n",
       "      <td>https://dreamaways.com/</td>\n",
       "      <td>403</td>\n",
       "      <td>403 Forbidden</td>\n",
       "      <td>23</td>\n",
       "      <td>0</td>\n",
       "      <td>0</td>\n",
       "      <td>0</td>\n",
       "      <td>0</td>\n",
       "      <td>0</td>\n",
       "    </tr>\n",
       "    <tr>\n",
       "      <th>2</th>\n",
       "      <td>0</td>\n",
       "      <td>https://www.worldtravelserver.com/</td>\n",
       "      <td>200</td>\n",
       "      <td>London travel agencies United Kingdom weather ...</td>\n",
       "      <td>34</td>\n",
       "      <td>0</td>\n",
       "      <td>0</td>\n",
       "      <td>0</td>\n",
       "      <td>0</td>\n",
       "      <td>1</td>\n",
       "    </tr>\n",
       "    <tr>\n",
       "      <th>3</th>\n",
       "      <td>0</td>\n",
       "      <td>https://www.baarty.com/</td>\n",
       "      <td>200</td>\n",
       "      <td>Soluciones Para Bares  Baartycom</td>\n",
       "      <td>23</td>\n",
       "      <td>0</td>\n",
       "      <td>0</td>\n",
       "      <td>0</td>\n",
       "      <td>0</td>\n",
       "      <td>1</td>\n",
       "    </tr>\n",
       "    <tr>\n",
       "      <th>4</th>\n",
       "      <td>0</td>\n",
       "      <td>https://ladamotors63.ru/</td>\n",
       "      <td>200</td>\n",
       "      <td>Lada Motors</td>\n",
       "      <td>24</td>\n",
       "      <td>0</td>\n",
       "      <td>0</td>\n",
       "      <td>2</td>\n",
       "      <td>1</td>\n",
       "      <td>0</td>\n",
       "    </tr>\n",
       "  </tbody>\n",
       "</table>\n",
       "</div>"
      ],
      "text/plain": [
       "   class                                 url  status_code  \\\n",
       "0      0              https://crowdyfan.com/          200   \n",
       "1      0             https://dreamaways.com/          403   \n",
       "2      0  https://www.worldtravelserver.com/          200   \n",
       "3      0             https://www.baarty.com/          200   \n",
       "4      0            https://ladamotors63.ru/          200   \n",
       "\n",
       "                                           meta_info  length  nb_hyphen  \\\n",
       "0        Crowdyfan  Sports News Nutrition  More           22          0   \n",
       "1                                     403 Forbidden       23          0   \n",
       "2  London travel agencies United Kingdom weather ...      34          0   \n",
       "3                  Soluciones Para Bares  Baartycom       23          0   \n",
       "4                                       Lada Motors       24          0   \n",
       "\n",
       "   nb_cdn  nb_digits  nb_adword  nb_subdomains  \n",
       "0       0          0          0              0  \n",
       "1       0          0          0              0  \n",
       "2       0          0          0              1  \n",
       "3       0          0          0              1  \n",
       "4       0          2          1              0  "
      ]
     },
     "execution_count": 8,
     "metadata": {},
     "output_type": "execute_result"
    }
   ],
   "source": [
    "df.head()"
   ]
  },
  {
   "cell_type": "code",
   "execution_count": 10,
   "id": "11d400b0",
   "metadata": {},
   "outputs": [],
   "source": [
    "df.to_csv(\"../processed-datasets/feature-dataset.csv\", sep=\"$\", index=False)"
   ]
  },
  {
   "cell_type": "code",
   "execution_count": 70,
   "id": "01cb9630",
   "metadata": {},
   "outputs": [],
   "source": [
    "plt.show()"
   ]
  }
 ],
 "metadata": {
  "kernelspec": {
   "display_name": "Python 3 (ipykernel)",
   "language": "python",
   "name": "python3"
  },
  "language_info": {
   "codemirror_mode": {
    "name": "ipython",
    "version": 3
   },
   "file_extension": ".py",
   "mimetype": "text/x-python",
   "name": "python",
   "nbconvert_exporter": "python",
   "pygments_lexer": "ipython3",
   "version": "3.10.4"
  }
 },
 "nbformat": 4,
 "nbformat_minor": 5
}
