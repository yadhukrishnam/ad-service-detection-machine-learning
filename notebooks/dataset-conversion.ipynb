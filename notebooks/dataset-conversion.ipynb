{
 "cells": [
  {
   "cell_type": "markdown",
   "id": "ab0b0f59",
   "metadata": {},
   "source": [
    "## Combining Dataset \n",
    "- Combine various ad dataset, add class variable and combine it to single dataset"
   ]
  },
  {
   "cell_type": "code",
   "execution_count": 1,
   "id": "3400c4d2",
   "metadata": {},
   "outputs": [],
   "source": [
    "import pandas as pd"
   ]
  },
  {
   "cell_type": "markdown",
   "id": "aba1bc08",
   "metadata": {},
   "source": [
    "### Combine Various Ad Datasets"
   ]
  },
  {
   "cell_type": "code",
   "execution_count": 2,
   "id": "a7a6da9c",
   "metadata": {},
   "outputs": [
    {
     "name": "stdout",
     "output_type": "stream",
     "text": [
      "42292\n"
     ]
    },
    {
     "data": {
      "text/html": [
       "<div>\n",
       "<style scoped>\n",
       "    .dataframe tbody tr th:only-of-type {\n",
       "        vertical-align: middle;\n",
       "    }\n",
       "\n",
       "    .dataframe tbody tr th {\n",
       "        vertical-align: top;\n",
       "    }\n",
       "\n",
       "    .dataframe thead th {\n",
       "        text-align: right;\n",
       "    }\n",
       "</style>\n",
       "<table border=\"1\" class=\"dataframe\">\n",
       "  <thead>\n",
       "    <tr style=\"text-align: right;\">\n",
       "      <th></th>\n",
       "      <th>domain</th>\n",
       "    </tr>\n",
       "  </thead>\n",
       "  <tbody>\n",
       "    <tr>\n",
       "      <th>0</th>\n",
       "      <td>0001-cab8-4c8c-43de.reporo.net</td>\n",
       "    </tr>\n",
       "    <tr>\n",
       "      <th>1</th>\n",
       "      <td>002-slq-470.mktoresp.com</td>\n",
       "    </tr>\n",
       "    <tr>\n",
       "      <th>2</th>\n",
       "      <td>004-btr-463.mktoresp.com</td>\n",
       "    </tr>\n",
       "    <tr>\n",
       "      <th>3</th>\n",
       "      <td>005.free-counters.co.uk</td>\n",
       "    </tr>\n",
       "    <tr>\n",
       "      <th>4</th>\n",
       "      <td>006.free-counters.co.uk</td>\n",
       "    </tr>\n",
       "  </tbody>\n",
       "</table>\n",
       "</div>"
      ],
      "text/plain": [
       "                           domain\n",
       "0  0001-cab8-4c8c-43de.reporo.net\n",
       "1        002-slq-470.mktoresp.com\n",
       "2        004-btr-463.mktoresp.com\n",
       "3         005.free-counters.co.uk\n",
       "4         006.free-counters.co.uk"
      ]
     },
     "execution_count": 2,
     "metadata": {},
     "output_type": "execute_result"
    }
   ],
   "source": [
    "ad_sites = pd.read_csv(\"../raw-dataset/adservers.txt\", skiprows=10, sep=\" \", usecols=[1], names=[\"domain\"])\n",
    "\n",
    "print (ad_sites.size)\n",
    "\n",
    "ad_sites.head()"
   ]
  },
  {
   "cell_type": "code",
   "execution_count": 3,
   "id": "348ddfa7",
   "metadata": {},
   "outputs": [
    {
     "name": "stdout",
     "output_type": "stream",
     "text": [
      "2701\n"
     ]
    },
    {
     "data": {
      "text/html": [
       "<div>\n",
       "<style scoped>\n",
       "    .dataframe tbody tr th:only-of-type {\n",
       "        vertical-align: middle;\n",
       "    }\n",
       "\n",
       "    .dataframe tbody tr th {\n",
       "        vertical-align: top;\n",
       "    }\n",
       "\n",
       "    .dataframe thead th {\n",
       "        text-align: right;\n",
       "    }\n",
       "</style>\n",
       "<table border=\"1\" class=\"dataframe\">\n",
       "  <thead>\n",
       "    <tr style=\"text-align: right;\">\n",
       "      <th></th>\n",
       "      <th>domain</th>\n",
       "    </tr>\n",
       "  </thead>\n",
       "  <tbody>\n",
       "    <tr>\n",
       "      <th>0</th>\n",
       "      <td>101com.com</td>\n",
       "    </tr>\n",
       "    <tr>\n",
       "      <th>1</th>\n",
       "      <td>101order.com</td>\n",
       "    </tr>\n",
       "    <tr>\n",
       "      <th>2</th>\n",
       "      <td>123found.com</td>\n",
       "    </tr>\n",
       "    <tr>\n",
       "      <th>3</th>\n",
       "      <td>140proof.com</td>\n",
       "    </tr>\n",
       "    <tr>\n",
       "      <th>4</th>\n",
       "      <td>180hits.de</td>\n",
       "    </tr>\n",
       "  </tbody>\n",
       "</table>\n",
       "</div>"
      ],
      "text/plain": [
       "         domain\n",
       "0    101com.com\n",
       "1  101order.com\n",
       "2  123found.com\n",
       "3  140proof.com\n",
       "4    180hits.de"
      ]
     },
     "execution_count": 3,
     "metadata": {},
     "output_type": "execute_result"
    }
   ],
   "source": [
    "simple_ad = pd.read_csv(\"../raw-dataset/simple_ad.txt\", skiprows=3, names=[\"domain\"])\n",
    "\n",
    "print (simple_ad.size)\n",
    "\n",
    "simple_ad.head()"
   ]
  },
  {
   "cell_type": "code",
   "execution_count": 4,
   "id": "ca6c7f76",
   "metadata": {
    "scrolled": true
   },
   "outputs": [
    {
     "name": "stdout",
     "output_type": "stream",
     "text": [
      "636\n"
     ]
    },
    {
     "data": {
      "text/html": [
       "<div>\n",
       "<style scoped>\n",
       "    .dataframe tbody tr th:only-of-type {\n",
       "        vertical-align: middle;\n",
       "    }\n",
       "\n",
       "    .dataframe tbody tr th {\n",
       "        vertical-align: top;\n",
       "    }\n",
       "\n",
       "    .dataframe thead th {\n",
       "        text-align: right;\n",
       "    }\n",
       "</style>\n",
       "<table border=\"1\" class=\"dataframe\">\n",
       "  <thead>\n",
       "    <tr style=\"text-align: right;\">\n",
       "      <th></th>\n",
       "      <th>domain</th>\n",
       "    </tr>\n",
       "  </thead>\n",
       "  <tbody>\n",
       "    <tr>\n",
       "      <th>0</th>\n",
       "      <td>184.48.190.35.bc.googleusercontent.com</td>\n",
       "    </tr>\n",
       "    <tr>\n",
       "      <th>1</th>\n",
       "      <td>202.90.190.35.bc.googleusercontent.com</td>\n",
       "    </tr>\n",
       "    <tr>\n",
       "      <th>2</th>\n",
       "      <td>246.39.190.35.bc.googleusercontent.com</td>\n",
       "    </tr>\n",
       "    <tr>\n",
       "      <th>3</th>\n",
       "      <td>2znp09oa.com</td>\n",
       "    </tr>\n",
       "    <tr>\n",
       "      <th>4</th>\n",
       "      <td>42.219.186.35.bc.googleusercontent.com</td>\n",
       "    </tr>\n",
       "  </tbody>\n",
       "</table>\n",
       "</div>"
      ],
      "text/plain": [
       "                                   domain\n",
       "0  184.48.190.35.bc.googleusercontent.com\n",
       "1  202.90.190.35.bc.googleusercontent.com\n",
       "2  246.39.190.35.bc.googleusercontent.com\n",
       "3                            2znp09oa.com\n",
       "4  42.219.186.35.bc.googleusercontent.com"
      ]
     },
     "execution_count": 4,
     "metadata": {},
     "output_type": "execute_result"
    }
   ],
   "source": [
    "admiral = pd.read_csv(\"../raw-dataset/Admiral.txt\", names=[\"domain\"])\n",
    "\n",
    "print (admiral.size)\n",
    "\n",
    "admiral.head()"
   ]
  },
  {
   "cell_type": "code",
   "execution_count": 5,
   "id": "6f24187d",
   "metadata": {},
   "outputs": [
    {
     "name": "stdout",
     "output_type": "stream",
     "text": [
      "3670\n"
     ]
    },
    {
     "data": {
      "text/html": [
       "<div>\n",
       "<style scoped>\n",
       "    .dataframe tbody tr th:only-of-type {\n",
       "        vertical-align: middle;\n",
       "    }\n",
       "\n",
       "    .dataframe tbody tr th {\n",
       "        vertical-align: top;\n",
       "    }\n",
       "\n",
       "    .dataframe thead th {\n",
       "        text-align: right;\n",
       "    }\n",
       "</style>\n",
       "<table border=\"1\" class=\"dataframe\">\n",
       "  <thead>\n",
       "    <tr style=\"text-align: right;\">\n",
       "      <th></th>\n",
       "      <th>domain</th>\n",
       "    </tr>\n",
       "  </thead>\n",
       "  <tbody>\n",
       "    <tr>\n",
       "      <th>0</th>\n",
       "      <td>0nlinemeds.com</td>\n",
       "    </tr>\n",
       "    <tr>\n",
       "      <th>1</th>\n",
       "      <td>1-2-money.com</td>\n",
       "    </tr>\n",
       "    <tr>\n",
       "      <th>2</th>\n",
       "      <td>101com.com</td>\n",
       "    </tr>\n",
       "    <tr>\n",
       "      <th>3</th>\n",
       "      <td>101order.com</td>\n",
       "    </tr>\n",
       "    <tr>\n",
       "      <th>4</th>\n",
       "      <td>103092804.com</td>\n",
       "    </tr>\n",
       "  </tbody>\n",
       "</table>\n",
       "</div>"
      ],
      "text/plain": [
       "           domain\n",
       "0  0nlinemeds.com\n",
       "1   1-2-money.com\n",
       "2      101com.com\n",
       "3    101order.com\n",
       "4   103092804.com"
      ]
     },
     "execution_count": 5,
     "metadata": {},
     "output_type": "execute_result"
    }
   ],
   "source": [
    "prigent_ads = pd.read_csv(\"../raw-dataset/Prigent-Ads.txt\", names=[\"domain\"])\n",
    "\n",
    "print (prigent_ads.size)\n",
    "\n",
    "prigent_ads.head()"
   ]
  },
  {
   "cell_type": "code",
   "execution_count": 6,
   "id": "c62e7dad",
   "metadata": {},
   "outputs": [
    {
     "name": "stdout",
     "output_type": "stream",
     "text": [
      "48663\n"
     ]
    },
    {
     "data": {
      "text/html": [
       "<div>\n",
       "<style scoped>\n",
       "    .dataframe tbody tr th:only-of-type {\n",
       "        vertical-align: middle;\n",
       "    }\n",
       "\n",
       "    .dataframe tbody tr th {\n",
       "        vertical-align: top;\n",
       "    }\n",
       "\n",
       "    .dataframe thead th {\n",
       "        text-align: right;\n",
       "    }\n",
       "</style>\n",
       "<table border=\"1\" class=\"dataframe\">\n",
       "  <thead>\n",
       "    <tr style=\"text-align: right;\">\n",
       "      <th></th>\n",
       "      <th>domain</th>\n",
       "    </tr>\n",
       "  </thead>\n",
       "  <tbody>\n",
       "    <tr>\n",
       "      <th>0</th>\n",
       "      <td>0001-cab8-4c8c-43de.reporo.net</td>\n",
       "    </tr>\n",
       "    <tr>\n",
       "      <th>1</th>\n",
       "      <td>002-slq-470.mktoresp.com</td>\n",
       "    </tr>\n",
       "    <tr>\n",
       "      <th>2</th>\n",
       "      <td>004-btr-463.mktoresp.com</td>\n",
       "    </tr>\n",
       "    <tr>\n",
       "      <th>3</th>\n",
       "      <td>005.free-counters.co.uk</td>\n",
       "    </tr>\n",
       "    <tr>\n",
       "      <th>4</th>\n",
       "      <td>006.free-counters.co.uk</td>\n",
       "    </tr>\n",
       "  </tbody>\n",
       "</table>\n",
       "</div>"
      ],
      "text/plain": [
       "                           domain\n",
       "0  0001-cab8-4c8c-43de.reporo.net\n",
       "1        002-slq-470.mktoresp.com\n",
       "2        004-btr-463.mktoresp.com\n",
       "3         005.free-counters.co.uk\n",
       "4         006.free-counters.co.uk"
      ]
     },
     "execution_count": 6,
     "metadata": {},
     "output_type": "execute_result"
    }
   ],
   "source": [
    "frames = [ad_sites, prigent_ads, simple_ad]\n",
    "\n",
    "ad_domains = pd.concat(frames)\n",
    "\n",
    "print(ad_domains.size)\n",
    "\n",
    "ad_domains.head()"
   ]
  },
  {
   "cell_type": "code",
   "execution_count": 7,
   "id": "b601ed45",
   "metadata": {},
   "outputs": [],
   "source": [
    "ad_domains = ad_domains.drop_duplicates()"
   ]
  },
  {
   "cell_type": "code",
   "execution_count": 8,
   "id": "bd456b64",
   "metadata": {
    "scrolled": true
   },
   "outputs": [
    {
     "data": {
      "text/html": [
       "<div>\n",
       "<style scoped>\n",
       "    .dataframe tbody tr th:only-of-type {\n",
       "        vertical-align: middle;\n",
       "    }\n",
       "\n",
       "    .dataframe tbody tr th {\n",
       "        vertical-align: top;\n",
       "    }\n",
       "\n",
       "    .dataframe thead th {\n",
       "        text-align: right;\n",
       "    }\n",
       "</style>\n",
       "<table border=\"1\" class=\"dataframe\">\n",
       "  <thead>\n",
       "    <tr style=\"text-align: right;\">\n",
       "      <th></th>\n",
       "      <th>domain</th>\n",
       "    </tr>\n",
       "  </thead>\n",
       "  <tbody>\n",
       "    <tr>\n",
       "      <th>0</th>\n",
       "      <td>0001-cab8-4c8c-43de.reporo.net</td>\n",
       "    </tr>\n",
       "    <tr>\n",
       "      <th>1</th>\n",
       "      <td>002-slq-470.mktoresp.com</td>\n",
       "    </tr>\n",
       "    <tr>\n",
       "      <th>2</th>\n",
       "      <td>004-btr-463.mktoresp.com</td>\n",
       "    </tr>\n",
       "    <tr>\n",
       "      <th>3</th>\n",
       "      <td>005.free-counters.co.uk</td>\n",
       "    </tr>\n",
       "    <tr>\n",
       "      <th>4</th>\n",
       "      <td>006.free-counters.co.uk</td>\n",
       "    </tr>\n",
       "    <tr>\n",
       "      <th>...</th>\n",
       "      <td>...</td>\n",
       "    </tr>\n",
       "    <tr>\n",
       "      <th>2685</th>\n",
       "      <td>yume.com</td>\n",
       "    </tr>\n",
       "    <tr>\n",
       "      <th>2690</th>\n",
       "      <td>zde-affinity.edgecaching.net</td>\n",
       "    </tr>\n",
       "    <tr>\n",
       "      <th>2692</th>\n",
       "      <td>zeepmedia.com</td>\n",
       "    </tr>\n",
       "    <tr>\n",
       "      <th>2698</th>\n",
       "      <td>zintext.com</td>\n",
       "    </tr>\n",
       "    <tr>\n",
       "      <th>2700</th>\n",
       "      <td>zumobi.com</td>\n",
       "    </tr>\n",
       "  </tbody>\n",
       "</table>\n",
       "<p>46229 rows × 1 columns</p>\n",
       "</div>"
      ],
      "text/plain": [
       "                              domain\n",
       "0     0001-cab8-4c8c-43de.reporo.net\n",
       "1           002-slq-470.mktoresp.com\n",
       "2           004-btr-463.mktoresp.com\n",
       "3            005.free-counters.co.uk\n",
       "4            006.free-counters.co.uk\n",
       "...                              ...\n",
       "2685                        yume.com\n",
       "2690    zde-affinity.edgecaching.net\n",
       "2692                   zeepmedia.com\n",
       "2698                     zintext.com\n",
       "2700                      zumobi.com\n",
       "\n",
       "[46229 rows x 1 columns]"
      ]
     },
     "execution_count": 8,
     "metadata": {},
     "output_type": "execute_result"
    }
   ],
   "source": [
    "ad_domains"
   ]
  },
  {
   "cell_type": "code",
   "execution_count": 9,
   "id": "91d77a08",
   "metadata": {},
   "outputs": [
    {
     "data": {
      "text/plain": [
       "False"
      ]
     },
     "execution_count": 9,
     "metadata": {},
     "output_type": "execute_result"
    }
   ],
   "source": [
    "ad_domains.isnull().values.any()"
   ]
  },
  {
   "cell_type": "markdown",
   "id": "7aabfe1c",
   "metadata": {},
   "source": [
    "## Normal Sites from Alexa Top 1M"
   ]
  },
  {
   "cell_type": "code",
   "execution_count": 10,
   "id": "13f18e57",
   "metadata": {
    "scrolled": true
   },
   "outputs": [
    {
     "name": "stdout",
     "output_type": "stream",
     "text": [
      "581685\n"
     ]
    },
    {
     "data": {
      "text/html": [
       "<div>\n",
       "<style scoped>\n",
       "    .dataframe tbody tr th:only-of-type {\n",
       "        vertical-align: middle;\n",
       "    }\n",
       "\n",
       "    .dataframe tbody tr th {\n",
       "        vertical-align: top;\n",
       "    }\n",
       "\n",
       "    .dataframe thead th {\n",
       "        text-align: right;\n",
       "    }\n",
       "</style>\n",
       "<table border=\"1\" class=\"dataframe\">\n",
       "  <thead>\n",
       "    <tr style=\"text-align: right;\">\n",
       "      <th></th>\n",
       "      <th>domain</th>\n",
       "    </tr>\n",
       "  </thead>\n",
       "  <tbody>\n",
       "    <tr>\n",
       "      <th>0</th>\n",
       "      <td>google.com</td>\n",
       "    </tr>\n",
       "    <tr>\n",
       "      <th>1</th>\n",
       "      <td>youtube.com</td>\n",
       "    </tr>\n",
       "    <tr>\n",
       "      <th>2</th>\n",
       "      <td>baidu.com</td>\n",
       "    </tr>\n",
       "    <tr>\n",
       "      <th>3</th>\n",
       "      <td>zhihu.com</td>\n",
       "    </tr>\n",
       "    <tr>\n",
       "      <th>4</th>\n",
       "      <td>taobao.com</td>\n",
       "    </tr>\n",
       "  </tbody>\n",
       "</table>\n",
       "</div>"
      ],
      "text/plain": [
       "        domain\n",
       "0   google.com\n",
       "1  youtube.com\n",
       "2    baidu.com\n",
       "3    zhihu.com\n",
       "4   taobao.com"
      ]
     },
     "execution_count": 10,
     "metadata": {},
     "output_type": "execute_result"
    }
   ],
   "source": [
    "normal_sites = pd.read_csv(\"../raw-dataset/top-1m.csv\", usecols=[1], names=[\"domain\"])\n",
    "\n",
    "print(normal_sites.size)\n",
    "\n",
    "normal_sites.head()"
   ]
  },
  {
   "cell_type": "code",
   "execution_count": 11,
   "id": "291b8fa3",
   "metadata": {},
   "outputs": [
    {
     "data": {
      "text/html": [
       "<div>\n",
       "<style scoped>\n",
       "    .dataframe tbody tr th:only-of-type {\n",
       "        vertical-align: middle;\n",
       "    }\n",
       "\n",
       "    .dataframe tbody tr th {\n",
       "        vertical-align: top;\n",
       "    }\n",
       "\n",
       "    .dataframe thead th {\n",
       "        text-align: right;\n",
       "    }\n",
       "</style>\n",
       "<table border=\"1\" class=\"dataframe\">\n",
       "  <thead>\n",
       "    <tr style=\"text-align: right;\">\n",
       "      <th></th>\n",
       "      <th>domain</th>\n",
       "    </tr>\n",
       "  </thead>\n",
       "  <tbody>\n",
       "    <tr>\n",
       "      <th>0</th>\n",
       "      <td>google.com</td>\n",
       "    </tr>\n",
       "    <tr>\n",
       "      <th>1</th>\n",
       "      <td>youtube.com</td>\n",
       "    </tr>\n",
       "    <tr>\n",
       "      <th>2</th>\n",
       "      <td>baidu.com</td>\n",
       "    </tr>\n",
       "    <tr>\n",
       "      <th>3</th>\n",
       "      <td>zhihu.com</td>\n",
       "    </tr>\n",
       "    <tr>\n",
       "      <th>4</th>\n",
       "      <td>taobao.com</td>\n",
       "    </tr>\n",
       "    <tr>\n",
       "      <th>...</th>\n",
       "      <td>...</td>\n",
       "    </tr>\n",
       "    <tr>\n",
       "      <th>581680</th>\n",
       "      <td>xdesirecamsx.com</td>\n",
       "    </tr>\n",
       "    <tr>\n",
       "      <th>581681</th>\n",
       "      <td>yourcodercamp.com</td>\n",
       "    </tr>\n",
       "    <tr>\n",
       "      <th>581682</th>\n",
       "      <td>yourhealthfromhome.com</td>\n",
       "    </tr>\n",
       "    <tr>\n",
       "      <th>581683</th>\n",
       "      <td>yunella.com</td>\n",
       "    </tr>\n",
       "    <tr>\n",
       "      <th>581684</th>\n",
       "      <td>zapsend.co</td>\n",
       "    </tr>\n",
       "  </tbody>\n",
       "</table>\n",
       "<p>581685 rows × 1 columns</p>\n",
       "</div>"
      ],
      "text/plain": [
       "                        domain\n",
       "0                   google.com\n",
       "1                  youtube.com\n",
       "2                    baidu.com\n",
       "3                    zhihu.com\n",
       "4                   taobao.com\n",
       "...                        ...\n",
       "581680        xdesirecamsx.com\n",
       "581681       yourcodercamp.com\n",
       "581682  yourhealthfromhome.com\n",
       "581683             yunella.com\n",
       "581684              zapsend.co\n",
       "\n",
       "[581685 rows x 1 columns]"
      ]
     },
     "execution_count": 11,
     "metadata": {},
     "output_type": "execute_result"
    }
   ],
   "source": [
    "normal_sites.drop_duplicates()"
   ]
  },
  {
   "cell_type": "code",
   "execution_count": 12,
   "id": "6faf604a",
   "metadata": {
    "scrolled": true
   },
   "outputs": [
    {
     "data": {
      "text/plain": [
       "False"
      ]
     },
     "execution_count": 12,
     "metadata": {},
     "output_type": "execute_result"
    }
   ],
   "source": [
    "normal_sites.isnull().values.any()"
   ]
  },
  {
   "cell_type": "markdown",
   "id": "e1bd61b3",
   "metadata": {},
   "source": [
    "### Randomly select n records from Alexa Top 1M"
   ]
  },
  {
   "cell_type": "code",
   "execution_count": 16,
   "id": "4f0e7627",
   "metadata": {},
   "outputs": [],
   "source": [
    "normal_sites = normal_sites.sample(n=46229)"
   ]
  },
  {
   "cell_type": "code",
   "execution_count": 17,
   "id": "dae6efef",
   "metadata": {},
   "outputs": [
    {
     "data": {
      "text/html": [
       "<div>\n",
       "<style scoped>\n",
       "    .dataframe tbody tr th:only-of-type {\n",
       "        vertical-align: middle;\n",
       "    }\n",
       "\n",
       "    .dataframe tbody tr th {\n",
       "        vertical-align: top;\n",
       "    }\n",
       "\n",
       "    .dataframe thead th {\n",
       "        text-align: right;\n",
       "    }\n",
       "</style>\n",
       "<table border=\"1\" class=\"dataframe\">\n",
       "  <thead>\n",
       "    <tr style=\"text-align: right;\">\n",
       "      <th></th>\n",
       "      <th>domain</th>\n",
       "    </tr>\n",
       "  </thead>\n",
       "  <tbody>\n",
       "    <tr>\n",
       "      <th>307713</th>\n",
       "      <td>crowdyfan.com</td>\n",
       "    </tr>\n",
       "    <tr>\n",
       "      <th>377353</th>\n",
       "      <td>dreamaways.com</td>\n",
       "    </tr>\n",
       "    <tr>\n",
       "      <th>352212</th>\n",
       "      <td>worldtravelserver.com</td>\n",
       "    </tr>\n",
       "    <tr>\n",
       "      <th>240236</th>\n",
       "      <td>baarty.com</td>\n",
       "    </tr>\n",
       "    <tr>\n",
       "      <th>399659</th>\n",
       "      <td>ladamotors63.ru</td>\n",
       "    </tr>\n",
       "    <tr>\n",
       "      <th>...</th>\n",
       "      <td>...</td>\n",
       "    </tr>\n",
       "    <tr>\n",
       "      <th>570966</th>\n",
       "      <td>casinfo-maroc.com</td>\n",
       "    </tr>\n",
       "    <tr>\n",
       "      <th>115801</th>\n",
       "      <td>jboss.org</td>\n",
       "    </tr>\n",
       "    <tr>\n",
       "      <th>128730</th>\n",
       "      <td>rinknet.com</td>\n",
       "    </tr>\n",
       "    <tr>\n",
       "      <th>3538</th>\n",
       "      <td>unrealengine.com</td>\n",
       "    </tr>\n",
       "    <tr>\n",
       "      <th>141652</th>\n",
       "      <td>wanderlustcollective.co</td>\n",
       "    </tr>\n",
       "  </tbody>\n",
       "</table>\n",
       "<p>46229 rows × 1 columns</p>\n",
       "</div>"
      ],
      "text/plain": [
       "                         domain\n",
       "307713            crowdyfan.com\n",
       "377353           dreamaways.com\n",
       "352212    worldtravelserver.com\n",
       "240236               baarty.com\n",
       "399659          ladamotors63.ru\n",
       "...                         ...\n",
       "570966        casinfo-maroc.com\n",
       "115801                jboss.org\n",
       "128730              rinknet.com\n",
       "3538           unrealengine.com\n",
       "141652  wanderlustcollective.co\n",
       "\n",
       "[46229 rows x 1 columns]"
      ]
     },
     "execution_count": 17,
     "metadata": {},
     "output_type": "execute_result"
    }
   ],
   "source": [
    "normal_sites"
   ]
  },
  {
   "cell_type": "markdown",
   "id": "95997a31",
   "metadata": {},
   "source": [
    "## Add class variable"
   ]
  },
  {
   "cell_type": "code",
   "execution_count": 18,
   "id": "c7bdc163",
   "metadata": {},
   "outputs": [],
   "source": [
    "normal_sites['class'] = 0\n",
    "ad_domains['class'] = 1"
   ]
  },
  {
   "cell_type": "code",
   "execution_count": 19,
   "id": "592e2c26",
   "metadata": {
    "scrolled": true
   },
   "outputs": [
    {
     "data": {
      "text/html": [
       "<div>\n",
       "<style scoped>\n",
       "    .dataframe tbody tr th:only-of-type {\n",
       "        vertical-align: middle;\n",
       "    }\n",
       "\n",
       "    .dataframe tbody tr th {\n",
       "        vertical-align: top;\n",
       "    }\n",
       "\n",
       "    .dataframe thead th {\n",
       "        text-align: right;\n",
       "    }\n",
       "</style>\n",
       "<table border=\"1\" class=\"dataframe\">\n",
       "  <thead>\n",
       "    <tr style=\"text-align: right;\">\n",
       "      <th></th>\n",
       "      <th>domain</th>\n",
       "      <th>class</th>\n",
       "    </tr>\n",
       "  </thead>\n",
       "  <tbody>\n",
       "    <tr>\n",
       "      <th>307713</th>\n",
       "      <td>crowdyfan.com</td>\n",
       "      <td>0</td>\n",
       "    </tr>\n",
       "    <tr>\n",
       "      <th>377353</th>\n",
       "      <td>dreamaways.com</td>\n",
       "      <td>0</td>\n",
       "    </tr>\n",
       "    <tr>\n",
       "      <th>352212</th>\n",
       "      <td>worldtravelserver.com</td>\n",
       "      <td>0</td>\n",
       "    </tr>\n",
       "    <tr>\n",
       "      <th>240236</th>\n",
       "      <td>baarty.com</td>\n",
       "      <td>0</td>\n",
       "    </tr>\n",
       "    <tr>\n",
       "      <th>399659</th>\n",
       "      <td>ladamotors63.ru</td>\n",
       "      <td>0</td>\n",
       "    </tr>\n",
       "  </tbody>\n",
       "</table>\n",
       "</div>"
      ],
      "text/plain": [
       "                       domain  class\n",
       "307713          crowdyfan.com      0\n",
       "377353         dreamaways.com      0\n",
       "352212  worldtravelserver.com      0\n",
       "240236             baarty.com      0\n",
       "399659        ladamotors63.ru      0"
      ]
     },
     "execution_count": 19,
     "metadata": {},
     "output_type": "execute_result"
    }
   ],
   "source": [
    "normal_sites.head()"
   ]
  },
  {
   "cell_type": "markdown",
   "id": "342dd405",
   "metadata": {},
   "source": [
    "### Merge Datasets"
   ]
  },
  {
   "cell_type": "code",
   "execution_count": 20,
   "id": "d1c3e694",
   "metadata": {
    "scrolled": false
   },
   "outputs": [
    {
     "name": "stdout",
     "output_type": "stream",
     "text": [
      "184916\n"
     ]
    },
    {
     "data": {
      "text/html": [
       "<div>\n",
       "<style scoped>\n",
       "    .dataframe tbody tr th:only-of-type {\n",
       "        vertical-align: middle;\n",
       "    }\n",
       "\n",
       "    .dataframe tbody tr th {\n",
       "        vertical-align: top;\n",
       "    }\n",
       "\n",
       "    .dataframe thead th {\n",
       "        text-align: right;\n",
       "    }\n",
       "</style>\n",
       "<table border=\"1\" class=\"dataframe\">\n",
       "  <thead>\n",
       "    <tr style=\"text-align: right;\">\n",
       "      <th></th>\n",
       "      <th>domain</th>\n",
       "      <th>class</th>\n",
       "    </tr>\n",
       "  </thead>\n",
       "  <tbody>\n",
       "    <tr>\n",
       "      <th>307713</th>\n",
       "      <td>crowdyfan.com</td>\n",
       "      <td>0</td>\n",
       "    </tr>\n",
       "    <tr>\n",
       "      <th>377353</th>\n",
       "      <td>dreamaways.com</td>\n",
       "      <td>0</td>\n",
       "    </tr>\n",
       "    <tr>\n",
       "      <th>352212</th>\n",
       "      <td>worldtravelserver.com</td>\n",
       "      <td>0</td>\n",
       "    </tr>\n",
       "    <tr>\n",
       "      <th>240236</th>\n",
       "      <td>baarty.com</td>\n",
       "      <td>0</td>\n",
       "    </tr>\n",
       "    <tr>\n",
       "      <th>399659</th>\n",
       "      <td>ladamotors63.ru</td>\n",
       "      <td>0</td>\n",
       "    </tr>\n",
       "  </tbody>\n",
       "</table>\n",
       "</div>"
      ],
      "text/plain": [
       "                       domain  class\n",
       "307713          crowdyfan.com      0\n",
       "377353         dreamaways.com      0\n",
       "352212  worldtravelserver.com      0\n",
       "240236             baarty.com      0\n",
       "399659        ladamotors63.ru      0"
      ]
     },
     "execution_count": 20,
     "metadata": {},
     "output_type": "execute_result"
    }
   ],
   "source": [
    "frames = [normal_sites, ad_domains]\n",
    "\n",
    "merged_ds = pd.concat(frames)\n",
    "\n",
    "print(merged_ds.size)\n",
    "\n",
    "merged_ds.head()"
   ]
  },
  {
   "cell_type": "markdown",
   "id": "aba6b61d",
   "metadata": {},
   "source": [
    "### Check if all domain names are correct"
   ]
  },
  {
   "cell_type": "code",
   "execution_count": 21,
   "id": "d81f3d07",
   "metadata": {},
   "outputs": [
    {
     "data": {
      "text/plain": [
       "307713    com\n",
       "377353    com\n",
       "352212    com\n",
       "240236    com\n",
       "399659     ru\n",
       "         ... \n",
       "2685      com\n",
       "2690      net\n",
       "2692      com\n",
       "2698      com\n",
       "2700      com\n",
       "Name: domain, Length: 92458, dtype: object"
      ]
     },
     "execution_count": 21,
     "metadata": {},
     "output_type": "execute_result"
    }
   ],
   "source": [
    "# Fix invalid domain names\n",
    "\n",
    "replace = {\n",
    "    \"performer.api.naiadsystems.comm\": \"performer.api.naiadsystems.com\",\n",
    "    \"fhits.xy\": \"fhits.xyz\",\n",
    "    \"www.fhits.xy\": \"www.fhits.xyz\",\n",
    "    \"cdn1.fhits.xy\": \"cdn1.fhits.xyz\",\n",
    "    \"accounts.pkr.com.invalid\": \"accounts.pkr.com\",\n",
    "    \"bravenet.com.invalid\": \"bravenet.com\",\n",
    "    \"seeq.com.invalid\": \"seeq.com\"\n",
    "}\n",
    "\n",
    "for item in replace:\n",
    "    merged_ds = merged_ds.replace(to_replace=item, value =replace.get(item))\n",
    "    \n",
    "from tld import get_tld\n",
    "\n",
    "merged_ds[\"domain\"].apply(lambda x: get_tld(x, fix_protocol=True))"
   ]
  },
  {
   "cell_type": "code",
   "execution_count": 22,
   "id": "ba7566ba",
   "metadata": {},
   "outputs": [],
   "source": [
    "merged_ds.to_csv(\"../raw-dataset/merged.csv\")"
   ]
  }
 ],
 "metadata": {
  "kernelspec": {
   "display_name": "Python 3 (ipykernel)",
   "language": "python",
   "name": "python3"
  },
  "language_info": {
   "codemirror_mode": {
    "name": "ipython",
    "version": 3
   },
   "file_extension": ".py",
   "mimetype": "text/x-python",
   "name": "python",
   "nbconvert_exporter": "python",
   "pygments_lexer": "ipython3",
   "version": "3.10.2"
  }
 },
 "nbformat": 4,
 "nbformat_minor": 5
}
